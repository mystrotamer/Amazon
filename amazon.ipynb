{
 "cells": [
  {
   "cell_type": "markdown",
   "metadata": {},
   "source": [
    "1. **Create an Amazon Database**:\n",
    "   - This likely refers to setting up a database schema or using a database service to store data.\n",
    "\n",
    "2. **Create Two New Tables**:\n",
    "   - 2.1\n",
    "        - **`products` table**: Should contain columns for(\n",
    "            -   `name`,\n",
    "            -   `price`,\n",
    "            -   `category` (likely a foreign key relation), and\n",
    "            -   `description`.\n",
    "    - 2.2\n",
    "        - **`category` table**: Should have a column for\n",
    "            -   `name`.\n",
    "\n",
    "3. **Insert New Data into Tables**:\n",
    "   - Populate the `products` and `category` tables with data.\n",
    "\n",
    "4. **Download Data**:\n",
    "   - Using a dummy data website,\n",
    "   - download 100 products and 10 categories in JSON or CSV format.\n",
    "\n",
    "5. **Bulk Insert Data**:\n",
    "   - Insert the downloaded data into the `products` and `category` tables.\n",
    "\n",
    "6. **Select All Products**:\n",
    "   - Retrieve all products from the database.\n",
    "\n",
    "7. **Select Products with Price Greater Than 30**:\n",
    "   - Filter products where the price is more than 30.\n",
    "\n",
    "8. **Get Products by Category**:\n",
    "   - Retrieve products belonging to a specific category (`any_category_name`).\n",
    "\n",
    "9. **Count Products in Each Category**:\n",
    "   - Count the number of products in each category.\n",
    "\n",
    "10. **Export Products into CSV**:\n",
    "    - Export the product data to a CSV file."
   ]
  },
  {
   "cell_type": "code",
   "execution_count": 1,
   "metadata": {},
   "outputs": [],
   "source": [
    "from peewee import(SqliteDatabase,\n",
    "                   Model,\n",
    "                   CharField,\n",
    "                   IntegerField,\n",
    "                   ForeignKeyField)\n"
   ]
  },
  {
   "cell_type": "code",
   "execution_count": 2,
   "metadata": {},
   "outputs": [
    {
     "name": "stdout",
     "output_type": "stream",
     "text": [
      "<class 'peewee.SqliteDatabase'>\n"
     ]
    }
   ],
   "source": [
    "db = SqliteDatabase('Amazon.db')\n",
    "print(f\"{SqliteDatabase}\")"
   ]
  },
  {
   "cell_type": "markdown",
   "metadata": {},
   "source": [
    "---"
   ]
  },
  {
   "cell_type": "markdown",
   "metadata": {},
   "source": [
    "- 2.2\n",
    "    - **`category` table**: Should have a column for\n",
    "        -   `name`."
   ]
  },
  {
   "cell_type": "code",
   "execution_count": 3,
   "metadata": {},
   "outputs": [
    {
     "name": "stdout",
     "output_type": "stream",
     "text": [
      "<Model: BaseModel>\n"
     ]
    }
   ],
   "source": [
    "class BaseModel(Model):\n",
    "    class Meta:\n",
    "        database = db\n",
    "print(f\"{BaseModel}\")"
   ]
  },
  {
   "cell_type": "code",
   "execution_count": 4,
   "metadata": {},
   "outputs": [
    {
     "name": "stdout",
     "output_type": "stream",
     "text": [
      "<Model: Category>\n"
     ]
    }
   ],
   "source": [
    "class Category(BaseModel):\n",
    "    name = CharField(unique=True)\n",
    "print(f\"{Category}\")"
   ]
  },
  {
   "cell_type": "markdown",
   "metadata": {},
   "source": [
    "---"
   ]
  },
  {
   "cell_type": "markdown",
   "metadata": {},
   "source": [
    "- 2.1    \n",
    "    - **`products` table**: Should contain columns for(\n",
    "        -   `name`,\n",
    "        -   `price`,\n",
    "        -   `category` (likely a foreign key relation), and\n",
    "        -   `description`."
   ]
  },
  {
   "cell_type": "code",
   "execution_count": 5,
   "metadata": {},
   "outputs": [
    {
     "name": "stdout",
     "output_type": "stream",
     "text": [
      "<Model: Products>\n"
     ]
    }
   ],
   "source": [
    "class Products(BaseModel):\n",
    "    name = CharField(unique=True)\n",
    "    price = IntegerField()\n",
    "    category = ForeignKeyField(Category, backref='category')\n",
    "    description = CharField()\n",
    "print(f\"{Products}\")"
   ]
  },
  {
   "cell_type": "code",
   "execution_count": 6,
   "metadata": {},
   "outputs": [],
   "source": [
    "db.connect()\n",
    "db.create_tables([Category, Products])\n",
    "#print(f\"{connect}{create_tables}\")"
   ]
  },
  {
   "cell_type": "markdown",
   "metadata": {},
   "source": [
    "---"
   ]
  },
  {
   "cell_type": "code",
   "execution_count": 7,
   "metadata": {},
   "outputs": [
    {
     "name": "stdout",
     "output_type": "stream",
     "text": [
      "Data exported to amazon_data.csv successfully.\n"
     ]
    }
   ],
   "source": [
    "import csv\n",
    "from faker import Faker\n",
    "\n",
    "faker = Faker()\n",
    "\n",
    "categories = [faker.word() for _ in range(5)] \n",
    "amazon_data = []\n",
    "\n",
    "for _ in range(100): \n",
    "    products_name = faker.sentence(nb_words=3)\n",
    "    products_price = faker.random_int(min=100, max=1000)\n",
    "    category = faker.random_element(categories)\n",
    "    products_description = faker.text(max_nb_chars=200)\n",
    "    amazon_data.append({\n",
    "        \"name\": products_name,\n",
    "        \"price\": products_price,\n",
    "        \"category\": category,\n",
    "        \"description\": products_description\n",
    "    })\n",
    "\n",
    "with open('amazon_data.csv', mode='w', newline='', encoding='utf-8') as file:\n",
    "    writer = csv.DictWriter(file, fieldnames=[\"name\", \"price\", \"category\", \"description\"])\n",
    "    writer.writeheader()\n",
    "    writer.writerows(amazon_data)\n",
    "\n",
    "print(\"Data exported to amazon_data.csv successfully.\")\n"
   ]
  },
  {
   "cell_type": "markdown",
   "metadata": {},
   "source": [
    "---"
   ]
  },
  {
   "cell_type": "code",
   "execution_count": 8,
   "metadata": {},
   "outputs": [
    {
     "name": "stdout",
     "output_type": "stream",
     "text": [
      "amazon_data.csv\n"
     ]
    }
   ],
   "source": [
    "import csv\n",
    "from peewee import IntegrityError\n",
    "\n",
    "csv_file_path = 'amazon_data.csv'\n",
    "\n",
    "with open(csv_file_path, newline='', encoding='utf-8') as csvfile:\n",
    "    reader = csv.DictReader(csvfile)\n",
    "    for row in reader:\n",
    "            category, created = Category.get_or_create(name=row['category'])\n",
    "            \n",
    "            Products.create(\n",
    "                name=row['name'],\n",
    "                price=float(row['price']),\n",
    "                category=category,\n",
    "                description=row['description']\n",
    "            )\n",
    "print(f\"{csv_file_path}\")"
   ]
  },
  {
   "cell_type": "markdown",
   "metadata": {},
   "source": [
    "---"
   ]
  },
  {
   "cell_type": "markdown",
   "metadata": {},
   "source": [
    "6. **Select All Products**:\n",
    "   - Retrieve all products from the database.\n",
    "\n",
    "7. **Select Products with Price Greater Than 30**:\n",
    "   - Filter products where the price is more than 30.\n",
    "\n",
    "8. **Get Products by Category**:\n",
    "   - Retrieve products belonging to a specific category (`any_category_name`).\n",
    "\n",
    "9. **Count Products in Each Category**:\n",
    "   - Count the number of products in each category.\n",
    "\n",
    "10. **Export Products into CSV**:\n",
    "    - Export the product data to a CSV file."
   ]
  },
  {
   "cell_type": "markdown",
   "metadata": {},
   "source": [
    "6. **Select All Products**:\n"
   ]
  },
  {
   "cell_type": "code",
   "execution_count": 9,
   "metadata": {},
   "outputs": [
    {
     "name": "stdout",
     "output_type": "stream",
     "text": [
      "Name: ID:1, Party agree., Price: 283, Category: wide\n",
      "Name: ID:2, Least there., Price: 730, Category: just\n",
      "Name: ID:3, Third establish actually beyond., Price: 368, Category: just\n",
      "Name: ID:4, Poor particularly unit within., Price: 571, Category: work\n",
      "Name: ID:5, Main what century manager., Price: 637, Category: cold\n",
      "Name: ID:6, Fly protect., Price: 657, Category: Mrs\n",
      "Name: ID:7, Opportunity food., Price: 742, Category: Mrs\n",
      "Name: ID:8, Play general first., Price: 872, Category: work\n",
      "Name: ID:9, Determine top game., Price: 234, Category: wide\n",
      "Name: ID:10, Computer first collection cell., Price: 697, Category: work\n",
      "Name: ID:11, Fear since., Price: 641, Category: just\n",
      "Name: ID:12, Capital painting collection., Price: 509, Category: wide\n",
      "Name: ID:13, Necessary feeling box., Price: 909, Category: just\n",
      "Name: ID:14, Hope imagine., Price: 138, Category: Mrs\n",
      "Name: ID:15, Indeed yes., Price: 395, Category: cold\n",
      "Name: ID:16, Executive reason., Price: 539, Category: work\n",
      "Name: ID:17, Probably end relationship share., Price: 297, Category: work\n",
      "Name: ID:18, Open population., Price: 486, Category: Mrs\n",
      "Name: ID:19, Story last theory., Price: 486, Category: cold\n",
      "Name: ID:20, Shoulder all., Price: 723, Category: just\n",
      "Name: ID:21, Traditional night else smile., Price: 798, Category: cold\n",
      "Name: ID:22, On impact say., Price: 279, Category: wide\n",
      "Name: ID:23, Include relationship against., Price: 877, Category: cold\n",
      "Name: ID:24, Mrs nation., Price: 452, Category: wide\n",
      "Name: ID:25, Population magazine hear., Price: 100, Category: wide\n",
      "Name: ID:26, In wrong yes., Price: 225, Category: just\n",
      "Name: ID:27, Establish staff., Price: 220, Category: wide\n",
      "Name: ID:28, Peace heavy town., Price: 582, Category: just\n",
      "Name: ID:29, Whether other ok., Price: 859, Category: wide\n",
      "Name: ID:30, Explain thus., Price: 520, Category: work\n",
      "Name: ID:31, Current purpose production., Price: 115, Category: just\n",
      "Name: ID:32, Else check., Price: 960, Category: wide\n",
      "Name: ID:33, Wrong change., Price: 943, Category: work\n",
      "Name: ID:34, More minute tree., Price: 557, Category: wide\n",
      "Name: ID:35, Perhaps age factor., Price: 394, Category: Mrs\n",
      "Name: ID:36, Response., Price: 754, Category: Mrs\n",
      "Name: ID:37, Recognize matter., Price: 426, Category: Mrs\n",
      "Name: ID:38, Right what should., Price: 306, Category: Mrs\n",
      "Name: ID:39, Exactly., Price: 638, Category: wide\n",
      "Name: ID:40, Condition drive establish., Price: 905, Category: Mrs\n",
      "Name: ID:41, Mention time., Price: 131, Category: just\n",
      "Name: ID:42, Real herself., Price: 734, Category: cold\n",
      "Name: ID:43, Back voice., Price: 422, Category: cold\n",
      "Name: ID:44, Read think., Price: 901, Category: just\n",
      "Name: ID:45, Likely true., Price: 674, Category: cold\n",
      "Name: ID:46, None., Price: 384, Category: work\n",
      "Name: ID:47, Pretty happen., Price: 773, Category: wide\n",
      "Name: ID:48, Indicate long., Price: 179, Category: just\n",
      "Name: ID:49, Lay effort., Price: 649, Category: work\n",
      "Name: ID:50, Front marriage base., Price: 387, Category: Mrs\n",
      "Name: ID:51, Music coach appear., Price: 330, Category: cold\n",
      "Name: ID:52, Suffer around Congress., Price: 663, Category: just\n",
      "Name: ID:53, American still., Price: 525, Category: wide\n",
      "Name: ID:54, Hope newspaper., Price: 491, Category: Mrs\n",
      "Name: ID:55, Wife increase., Price: 351, Category: cold\n",
      "Name: ID:56, Couple know., Price: 858, Category: just\n",
      "Name: ID:57, Maintain much someone., Price: 330, Category: work\n",
      "Name: ID:58, Shoulder minute case., Price: 754, Category: wide\n",
      "Name: ID:59, Crime look., Price: 527, Category: cold\n",
      "Name: ID:60, Tonight leg., Price: 739, Category: wide\n",
      "Name: ID:61, Simply new yard., Price: 399, Category: cold\n",
      "Name: ID:62, Discover owner from., Price: 607, Category: just\n",
      "Name: ID:63, Might event., Price: 334, Category: Mrs\n",
      "Name: ID:64, Religious reach., Price: 751, Category: cold\n",
      "Name: ID:65, Business society., Price: 453, Category: wide\n",
      "Name: ID:66, Particularly., Price: 178, Category: cold\n",
      "Name: ID:67, Dream answer whatever heavy., Price: 550, Category: cold\n",
      "Name: ID:68, Control administration., Price: 655, Category: cold\n",
      "Name: ID:69, Degree., Price: 564, Category: Mrs\n",
      "Name: ID:70, Mention industry., Price: 108, Category: cold\n",
      "Name: ID:71, Power action operation., Price: 224, Category: Mrs\n",
      "Name: ID:72, She environmental., Price: 515, Category: Mrs\n",
      "Name: ID:73, While., Price: 407, Category: cold\n",
      "Name: ID:74, Fine understand., Price: 330, Category: Mrs\n",
      "Name: ID:75, Land at., Price: 119, Category: work\n",
      "Name: ID:76, Particularly dark physical., Price: 953, Category: work\n",
      "Name: ID:77, Part picture be., Price: 523, Category: wide\n",
      "Name: ID:78, Never candidate., Price: 891, Category: cold\n",
      "Name: ID:79, Range although country., Price: 573, Category: just\n",
      "Name: ID:80, Agree issue., Price: 227, Category: work\n",
      "Name: ID:81, Bill affect., Price: 127, Category: work\n",
      "Name: ID:82, He box., Price: 459, Category: Mrs\n",
      "Name: ID:83, Describe pay., Price: 495, Category: just\n",
      "Name: ID:84, Coach perform especially., Price: 492, Category: Mrs\n",
      "Name: ID:85, Forget purpose mention., Price: 343, Category: cold\n",
      "Name: ID:86, Area., Price: 530, Category: cold\n",
      "Name: ID:87, As establish., Price: 340, Category: Mrs\n",
      "Name: ID:88, Although save employee., Price: 841, Category: Mrs\n",
      "Name: ID:89, Remain page economy., Price: 400, Category: work\n",
      "Name: ID:90, Politics anything., Price: 733, Category: wide\n",
      "Name: ID:91, Figure., Price: 800, Category: Mrs\n",
      "Name: ID:92, Player water., Price: 314, Category: Mrs\n",
      "Name: ID:93, Cut machine., Price: 291, Category: cold\n",
      "Name: ID:94, Show actually lot industry., Price: 465, Category: Mrs\n",
      "Name: ID:95, Likely., Price: 818, Category: work\n",
      "Name: ID:96, First though., Price: 678, Category: Mrs\n",
      "Name: ID:97, Process., Price: 405, Category: work\n",
      "Name: ID:98, Blood list national., Price: 968, Category: wide\n",
      "Name: ID:99, Close one., Price: 242, Category: Mrs\n",
      "Name: ID:100, Lead hot., Price: 390, Category: just\n"
     ]
    }
   ],
   "source": [
    "All_Products=Products.select()\n",
    "for product in All_Products:\n",
    "    print(f\"Name: ID:{product.id}, {product.name}, Price: {product.price}, Category: {product.category.name}\")"
   ]
  },
  {
   "cell_type": "markdown",
   "metadata": {},
   "source": [
    "7. **Select Products with Price Greater Than 30**:\n",
    "   - Filter products where the price is more than 30."
   ]
  },
  {
   "cell_type": "code",
   "execution_count": 11,
   "metadata": {},
   "outputs": [
    {
     "name": "stdout",
     "output_type": "stream",
     "text": [
      "Name: ID:1, Party agree., Price: 283, Category: wide\n",
      "Name: ID:3, Third establish actually beyond., Price: 368, Category: just\n",
      "Name: ID:9, Determine top game., Price: 234, Category: wide\n",
      "Name: ID:14, Hope imagine., Price: 138, Category: Mrs\n",
      "Name: ID:15, Indeed yes., Price: 395, Category: cold\n",
      "Name: ID:17, Probably end relationship share., Price: 297, Category: work\n",
      "Name: ID:18, Open population., Price: 486, Category: Mrs\n",
      "Name: ID:19, Story last theory., Price: 486, Category: cold\n",
      "Name: ID:22, On impact say., Price: 279, Category: wide\n",
      "Name: ID:24, Mrs nation., Price: 452, Category: wide\n",
      "Name: ID:25, Population magazine hear., Price: 100, Category: wide\n",
      "Name: ID:26, In wrong yes., Price: 225, Category: just\n",
      "Name: ID:27, Establish staff., Price: 220, Category: wide\n",
      "Name: ID:31, Current purpose production., Price: 115, Category: just\n",
      "Name: ID:35, Perhaps age factor., Price: 394, Category: Mrs\n",
      "Name: ID:37, Recognize matter., Price: 426, Category: Mrs\n",
      "Name: ID:38, Right what should., Price: 306, Category: Mrs\n",
      "Name: ID:41, Mention time., Price: 131, Category: just\n",
      "Name: ID:43, Back voice., Price: 422, Category: cold\n",
      "Name: ID:46, None., Price: 384, Category: work\n",
      "Name: ID:48, Indicate long., Price: 179, Category: just\n",
      "Name: ID:50, Front marriage base., Price: 387, Category: Mrs\n",
      "Name: ID:51, Music coach appear., Price: 330, Category: cold\n",
      "Name: ID:54, Hope newspaper., Price: 491, Category: Mrs\n",
      "Name: ID:55, Wife increase., Price: 351, Category: cold\n",
      "Name: ID:57, Maintain much someone., Price: 330, Category: work\n",
      "Name: ID:61, Simply new yard., Price: 399, Category: cold\n",
      "Name: ID:63, Might event., Price: 334, Category: Mrs\n",
      "Name: ID:65, Business society., Price: 453, Category: wide\n",
      "Name: ID:66, Particularly., Price: 178, Category: cold\n",
      "Name: ID:70, Mention industry., Price: 108, Category: cold\n",
      "Name: ID:71, Power action operation., Price: 224, Category: Mrs\n",
      "Name: ID:73, While., Price: 407, Category: cold\n",
      "Name: ID:74, Fine understand., Price: 330, Category: Mrs\n",
      "Name: ID:75, Land at., Price: 119, Category: work\n",
      "Name: ID:80, Agree issue., Price: 227, Category: work\n",
      "Name: ID:81, Bill affect., Price: 127, Category: work\n",
      "Name: ID:82, He box., Price: 459, Category: Mrs\n",
      "Name: ID:83, Describe pay., Price: 495, Category: just\n",
      "Name: ID:84, Coach perform especially., Price: 492, Category: Mrs\n",
      "Name: ID:85, Forget purpose mention., Price: 343, Category: cold\n",
      "Name: ID:87, As establish., Price: 340, Category: Mrs\n",
      "Name: ID:89, Remain page economy., Price: 400, Category: work\n",
      "Name: ID:92, Player water., Price: 314, Category: Mrs\n",
      "Name: ID:93, Cut machine., Price: 291, Category: cold\n",
      "Name: ID:94, Show actually lot industry., Price: 465, Category: Mrs\n",
      "Name: ID:97, Process., Price: 405, Category: work\n",
      "Name: ID:99, Close one., Price: 242, Category: Mrs\n",
      "Name: ID:100, Lead hot., Price: 390, Category: just\n"
     ]
    }
   ],
   "source": [
    "from peewee import fn\n",
    "Select_Product = All_Products.where(Products.price < 500)\n",
    "for product in Select_Product:\n",
    "    print(f\"Name: ID:{product.id}, {product.name}, Price: {product.price}, Category: {product.category.name}\")"
   ]
  },
  {
   "cell_type": "markdown",
   "metadata": {},
   "source": [
    "---"
   ]
  },
  {
   "cell_type": "markdown",
   "metadata": {},
   "source": [
    "8. **Get Products by Category**:\n",
    "   - Retrieve products belonging to a specific category (`any_category_name`)."
   ]
  },
  {
   "cell_type": "code",
   "execution_count": 13,
   "metadata": {},
   "outputs": [
    {
     "name": "stdout",
     "output_type": "stream",
     "text": [
      "Name: ID: 1, Party agree., Price: 283, Category: wide\n",
      "Name: ID: 9, Determine top game., Price: 234, Category: wide\n",
      "Name: ID: 12, Capital painting collection., Price: 509, Category: wide\n",
      "Name: ID: 22, On impact say., Price: 279, Category: wide\n",
      "Name: ID: 24, Mrs nation., Price: 452, Category: wide\n",
      "Name: ID: 25, Population magazine hear., Price: 100, Category: wide\n",
      "Name: ID: 27, Establish staff., Price: 220, Category: wide\n",
      "Name: ID: 29, Whether other ok., Price: 859, Category: wide\n",
      "Name: ID: 32, Else check., Price: 960, Category: wide\n",
      "Name: ID: 34, More minute tree., Price: 557, Category: wide\n",
      "Name: ID: 39, Exactly., Price: 638, Category: wide\n",
      "Name: ID: 47, Pretty happen., Price: 773, Category: wide\n",
      "Name: ID: 53, American still., Price: 525, Category: wide\n",
      "Name: ID: 58, Shoulder minute case., Price: 754, Category: wide\n",
      "Name: ID: 60, Tonight leg., Price: 739, Category: wide\n",
      "Name: ID: 65, Business society., Price: 453, Category: wide\n",
      "Name: ID: 77, Part picture be., Price: 523, Category: wide\n",
      "Name: ID: 90, Politics anything., Price: 733, Category: wide\n",
      "Name: ID: 98, Blood list national., Price: 968, Category: wide\n"
     ]
    }
   ],
   "source": [
    "category_name = 'wide'\n",
    "\n",
    "# الحصول على كائن الفئة من جدول الفئات باستخدام الاسم\n",
    "try:\n",
    "    category = Category.get(Category.name == category_name)\n",
    "\n",
    "    # استرجاع جميع المنتجات التي تنتمي إلى هذه الفئة\n",
    "    products_in_category = Products.select().where(Products.category == category)\n",
    "\n",
    "    # عرض النتائج\n",
    "    for product in products_in_category:\n",
    "        print(f\"Name: ID: {product.id}, {product.name}, Price: {product.price}, Category: {product.category.name}\")\n",
    "\n",
    "except Category.DoesNotExist:\n",
    "    print(f\"No category with the name '{category_name}' found.\")"
   ]
  },
  {
   "cell_type": "markdown",
   "metadata": {},
   "source": [
    "---"
   ]
  },
  {
   "cell_type": "markdown",
   "metadata": {},
   "source": [
    "9. **Count Products in Each Category**:\n",
    "   - Count the number of products in each category."
   ]
  },
  {
   "cell_type": "code",
   "execution_count": 14,
   "metadata": {},
   "outputs": [
    {
     "name": "stdout",
     "output_type": "stream",
     "text": [
      "wide 19\n",
      "just 17\n",
      "work 17\n",
      "cold 22\n",
      "Mrs 25\n"
     ]
    }
   ],
   "source": [
    "from peewee import fn\n",
    "\n",
    "category_counts = (Products\n",
    "                   .select(Products.category, fn.COUNT(Products.id).alias('count'))\n",
    "                   .group_by(Products.category))\n",
    "\n",
    "for count in category_counts:\n",
    "    print(count.category.name, count.count)\n"
   ]
  },
  {
   "cell_type": "markdown",
   "metadata": {},
   "source": [
    "---"
   ]
  },
  {
   "cell_type": "markdown",
   "metadata": {},
   "source": [
    "10. **Export Products into CSV**:\n",
    "    - Export the product data to a CSV file."
   ]
  },
  {
   "cell_type": "code",
   "execution_count": 15,
   "metadata": {},
   "outputs": [
    {
     "name": "stdout",
     "output_type": "stream",
     "text": [
      "<_csv.writer object at 0x00000138C17F3F40>\n"
     ]
    }
   ],
   "source": [
    "import csv\n",
    "with open('products.csv', 'w', newline='') as csvfile:\n",
    "    product_writer = csv.writer(csvfile)\n",
    "\n",
    "    product_writer.writerow(['ID', 'Name', 'Price', 'Category', 'Description'])\n",
    "\n",
    "    for product in All_Products:\n",
    "        product_writer.writerow([\n",
    "            product.id,\n",
    "            product.name,\n",
    "            product.price,\n",
    "            product.category.name,\n",
    "            product.description\n",
    "        ])\n",
    "print(f\"{product_writer}\")"
   ]
  },
  {
   "cell_type": "markdown",
   "metadata": {},
   "source": [
    "---\n",
    "---"
   ]
  }
 ],
 "metadata": {
  "kernelspec": {
   "display_name": "Python 3",
   "language": "python",
   "name": "python3"
  },
  "language_info": {
   "codemirror_mode": {
    "name": "ipython",
    "version": 3
   },
   "file_extension": ".py",
   "mimetype": "text/x-python",
   "name": "python",
   "nbconvert_exporter": "python",
   "pygments_lexer": "ipython3",
   "version": "3.12.4"
  }
 },
 "nbformat": 4,
 "nbformat_minor": 2
}
